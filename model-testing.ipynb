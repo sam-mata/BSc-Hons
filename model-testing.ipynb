{
 "cells": [
  {
   "cell_type": "markdown",
   "metadata": {},
   "source": [
    "# Model Testing\n"
   ]
  },
  {
   "cell_type": "markdown",
   "metadata": {},
   "source": [
    "## Setup\n"
   ]
  },
  {
   "cell_type": "code",
   "execution_count": 1,
   "metadata": {},
   "outputs": [],
   "source": [
    "from scripts.models.target_independent import test_independant_models\n",
    "from scripts.preprocessing.data_loader import load_preprocessed_dataset, split_features_targets\n",
    "\n",
    "from sklearn.ensemble import (\n",
    "    RandomForestRegressor,\n",
    "    GradientBoostingRegressor,\n",
    "    ExtraTreesRegressor,\n",
    ")\n",
    "from sklearn.ensemble import BaggingRegressor\n",
    "from xgboost import XGBRegressor\n",
    "from lightgbm import LGBMRegressor\n",
    "from IPython.display import display"
   ]
  },
  {
   "cell_type": "code",
   "execution_count": 2,
   "metadata": {},
   "outputs": [],
   "source": [
    "df = load_preprocessed_dataset()\n",
    "features, targets = split_features_targets(df)"
   ]
  },
  {
   "cell_type": "markdown",
   "metadata": {},
   "source": [
    "# Target-Independant Testing\n"
   ]
  },
  {
   "cell_type": "markdown",
   "metadata": {},
   "source": [
    "## Refined Model Subset\n"
   ]
  },
  {
   "cell_type": "code",
   "execution_count": null,
   "metadata": {},
   "outputs": [],
   "source": []
  },
  {
   "cell_type": "markdown",
   "metadata": {},
   "source": [
    "### Models\n"
   ]
  },
  {
   "cell_type": "code",
   "execution_count": 5,
   "metadata": {},
   "outputs": [
    {
     "name": "stdout",
     "output_type": "stream",
     "text": [
      "Ice Thickness Results:\n"
     ]
    },
    {
     "data": {
      "text/html": [
       "<div>\n",
       "<style scoped>\n",
       "    .dataframe tbody tr th:only-of-type {\n",
       "        vertical-align: middle;\n",
       "    }\n",
       "\n",
       "    .dataframe tbody tr th {\n",
       "        vertical-align: top;\n",
       "    }\n",
       "\n",
       "    .dataframe thead th {\n",
       "        text-align: right;\n",
       "    }\n",
       "</style>\n",
       "<table border=\"1\" class=\"dataframe\">\n",
       "  <thead>\n",
       "    <tr style=\"text-align: right;\">\n",
       "      <th></th>\n",
       "      <th>MSE_mean</th>\n",
       "      <th>MAE_mean</th>\n",
       "      <th>R2_mean</th>\n",
       "      <th>MSE_std</th>\n",
       "      <th>MAE_std</th>\n",
       "      <th>R2_std</th>\n",
       "    </tr>\n",
       "  </thead>\n",
       "  <tbody>\n",
       "    <tr>\n",
       "      <th>BaggingRegressor</th>\n",
       "      <td>8571.929396</td>\n",
       "      <td>32.551579</td>\n",
       "      <td>0.993708</td>\n",
       "      <td>2400.233018</td>\n",
       "      <td>5.743913</td>\n",
       "      <td>0.001759</td>\n",
       "    </tr>\n",
       "    <tr>\n",
       "      <th>RandomForestRegressor</th>\n",
       "      <td>17977.508811</td>\n",
       "      <td>60.929182</td>\n",
       "      <td>0.986800</td>\n",
       "      <td>4961.846762</td>\n",
       "      <td>10.909119</td>\n",
       "      <td>0.003661</td>\n",
       "    </tr>\n",
       "    <tr>\n",
       "      <th>GradientBoostingRegressor</th>\n",
       "      <td>18364.764783</td>\n",
       "      <td>65.865262</td>\n",
       "      <td>0.986517</td>\n",
       "      <td>4483.667839</td>\n",
       "      <td>7.681247</td>\n",
       "      <td>0.003304</td>\n",
       "    </tr>\n",
       "    <tr>\n",
       "      <th>XGBRegressor</th>\n",
       "      <td>18537.718960</td>\n",
       "      <td>66.365715</td>\n",
       "      <td>0.986393</td>\n",
       "      <td>4582.769298</td>\n",
       "      <td>7.882748</td>\n",
       "      <td>0.003367</td>\n",
       "    </tr>\n",
       "    <tr>\n",
       "      <th>LGBMRegressor</th>\n",
       "      <td>18757.716539</td>\n",
       "      <td>66.878901</td>\n",
       "      <td>0.986228</td>\n",
       "      <td>4502.755740</td>\n",
       "      <td>7.614474</td>\n",
       "      <td>0.003330</td>\n",
       "    </tr>\n",
       "    <tr>\n",
       "      <th>ExtraTreesRegressor</th>\n",
       "      <td>42893.550120</td>\n",
       "      <td>104.751249</td>\n",
       "      <td>0.968508</td>\n",
       "      <td>13968.727402</td>\n",
       "      <td>19.563364</td>\n",
       "      <td>0.010283</td>\n",
       "    </tr>\n",
       "  </tbody>\n",
       "</table>\n",
       "</div>"
      ],
      "text/plain": [
       "                               MSE_mean    MAE_mean   R2_mean       MSE_std  \\\n",
       "BaggingRegressor            8571.929396   32.551579  0.993708   2400.233018   \n",
       "RandomForestRegressor      17977.508811   60.929182  0.986800   4961.846762   \n",
       "GradientBoostingRegressor  18364.764783   65.865262  0.986517   4483.667839   \n",
       "XGBRegressor               18537.718960   66.365715  0.986393   4582.769298   \n",
       "LGBMRegressor              18757.716539   66.878901  0.986228   4502.755740   \n",
       "ExtraTreesRegressor        42893.550120  104.751249  0.968508  13968.727402   \n",
       "\n",
       "                             MAE_std    R2_std  \n",
       "BaggingRegressor            5.743913  0.001759  \n",
       "RandomForestRegressor      10.909119  0.003661  \n",
       "GradientBoostingRegressor   7.681247  0.003304  \n",
       "XGBRegressor                7.882748  0.003367  \n",
       "LGBMRegressor               7.614474  0.003330  \n",
       "ExtraTreesRegressor        19.563364  0.010283  "
      ]
     },
     "metadata": {},
     "output_type": "display_data"
    }
   ],
   "source": [
    "from sklearn.linear_model import LinearRegression\n",
    "\n",
    "models = [\n",
    "    RandomForestRegressor(n_estimators=100, max_depth=10, n_jobs=-1),\n",
    "    GradientBoostingRegressor(n_estimators=100, max_depth=5, learning_rate=0.1),\n",
    "    ExtraTreesRegressor(n_estimators=100, max_depth=10, n_jobs=-1),\n",
    "    BaggingRegressor(n_estimators=10, max_samples=0.5, n_jobs=-1),\n",
    "    XGBRegressor(n_estimators=100, max_depth=5, learning_rate=0.1, n_jobs=-1),\n",
    "    LGBMRegressor(\n",
    "        n_estimators=100, max_depth=5, learning_rate=0.1, n_jobs=-1, verbose=-1\n",
    "    ),\n",
    "]\n",
    "\n",
    "results_thickness = test_independant_models(models, features, targets[\"ice_thickness\"])\n",
    "print(\"Ice Thickness Results:\")\n",
    "display(results_thickness)\n",
    "\n",
    "results_velocity = test_independant_models(models, features, targets[\"ice_velocity\"])\n",
    "print(\"\\nIce Velocity Results:\")\n",
    "display(results_velocity)\n",
    "\n",
    "results_mask = test_independant_models(models, features, targets[\"ice_mask\"])\n",
    "print(\"\\nIce Mask Results:\")\n",
    "display(results_mask)"
   ]
  },
  {
   "cell_type": "markdown",
   "metadata": {},
   "source": [
    "## Further Testing\n"
   ]
  },
  {
   "cell_type": "code",
   "execution_count": null,
   "metadata": {},
   "outputs": [],
   "source": [
    "MAX_DEPTH = 60\n",
    "N_ESTIMATORS = 160\n",
    "N_JOBS = -1\n",
    "\n",
    "models = [\n",
    "    RandomForestRegressor(\n",
    "        n_estimators=N_ESTIMATORS, max_depth=MAX_DEPTH, n_jobs=N_JOBS\n",
    "    ),\n",
    "    GradientBoostingRegressor(\n",
    "        n_estimators=N_ESTIMATORS, max_depth=MAX_DEPTH, learning_rate=0.1\n",
    "    ),\n",
    "    ExtraTreesRegressor(n_estimators=N_ESTIMATORS, max_depth=MAX_DEPTH, n_jobs=N_JOBS),\n",
    "    BaggingRegressor(n_estimators=N_ESTIMATORS, max_samples=0.5, n_jobs=N_JOBS),\n",
    "    XGBRegressor(\n",
    "        n_estimators=N_ESTIMATORS, max_depth=MAX_DEPTH, learning_rate=0.1, n_jobs=N_JOBS\n",
    "    ),\n",
    "    LGBMRegressor(\n",
    "        n_estimators=N_ESTIMATORS,\n",
    "        max_depth=MAX_DEPTH,\n",
    "        learning_rate=0.1,\n",
    "        n_jobs=N_JOBS,\n",
    "        verbose=-1,\n",
    "    ),\n",
    "]\n",
    "\n",
    "print(\n",
    "    \"Ice Thickness\\n\",\n",
    "    test_independant_models(\n",
    "        models, features, targets[\"ice_thickness\"], split_year=2085\n",
    "    ),\n",
    ")\n",
    "print(\n",
    "    \"Ice Velocity\\n\",\n",
    "    test_independant_models(models, features, targets[\"ice_velocity\"], split_year=2085),\n",
    ")\n",
    "print(\n",
    "    \"Ice Mask\\n\",\n",
    "    test_independant_models(models, features, targets[\"ice_mask\"], split_year=2085),\n",
    ")"
   ]
  }
 ],
 "metadata": {
  "kernelspec": {
   "display_name": "Python 3",
   "language": "python",
   "name": "python3"
  },
  "language_info": {
   "codemirror_mode": {
    "name": "ipython",
    "version": 3
   },
   "file_extension": ".py",
   "mimetype": "text/x-python",
   "name": "python",
   "nbconvert_exporter": "python",
   "pygments_lexer": "ipython3",
   "version": "3.12.4"
  }
 },
 "nbformat": 4,
 "nbformat_minor": 2
}
