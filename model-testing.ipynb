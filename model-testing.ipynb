{
 "cells": [
  {
   "cell_type": "markdown",
   "metadata": {},
   "source": [
    "# Model Testing\n"
   ]
  },
  {
   "cell_type": "markdown",
   "metadata": {},
   "source": [
    "## Setup\n"
   ]
  },
  {
   "cell_type": "code",
   "execution_count": 1,
   "metadata": {},
   "outputs": [],
   "source": [
    "from scripts.data_loader import load_data, split_features_targets\n",
    "from scripts.preprocessing import preprocess_data, derive_features\n",
    "from scripts.model_testing import test_independant_models\n",
    "\n",
    "from sklearn.ensemble import (\n",
    "    RandomForestRegressor,\n",
    "    GradientBoostingRegressor,\n",
    "    ExtraTreesRegressor,\n",
    ")\n",
    "from sklearn.ensemble import BaggingRegressor\n",
    "from xgboost import XGBRegressor\n",
    "from lightgbm import LGBMRegressor"
   ]
  },
  {
   "cell_type": "code",
   "execution_count": 2,
   "metadata": {},
   "outputs": [],
   "source": [
    "df = load_data(\"data\")\n",
    "df = preprocess_data(df)\n",
    "df = derive_features(df)\n",
    "\n",
    "features, targets = split_features_targets(df)"
   ]
  },
  {
   "cell_type": "markdown",
   "metadata": {},
   "source": [
    "# Target-Independant Testing\n"
   ]
  },
  {
   "cell_type": "markdown",
   "metadata": {},
   "source": [
    "## Refined Model Subset\n"
   ]
  },
  {
   "cell_type": "markdown",
   "metadata": {},
   "source": [
    "### Models\n"
   ]
  },
  {
   "cell_type": "code",
   "execution_count": 7,
   "metadata": {},
   "outputs": [
    {
     "name": "stdout",
     "output_type": "stream",
     "text": [
      "Ice Thickness\n",
      "                                 MSE       MAE        R2\n",
      "BaggingRegressor           0.001545  0.015845  0.976083\n",
      "XGBRegressor               0.001946  0.020765  0.969874\n",
      "LGBMRegressor              0.001977  0.020918  0.969388\n",
      "GradientBoostingRegressor  0.002047  0.021366  0.968304\n",
      "RandomForestRegressor      0.002183  0.020724  0.966199\n",
      "ExtraTreesRegressor        0.002970  0.027130  0.954014\n",
      "Ice Velocity\n",
      "                                    MSE       MAE        R2\n",
      "ExtraTreesRegressor        2295.298886  8.297160  0.232933\n",
      "RandomForestRegressor      2365.910161  8.163297  0.209335\n",
      "XGBRegressor               2390.040798  9.056582  0.201271\n",
      "LGBMRegressor              2419.568506  8.981739  0.191403\n",
      "GradientBoostingRegressor  2425.366275  9.198688  0.189465\n",
      "BaggingRegressor           2498.062975  7.536870  0.165171\n",
      "Ice Mask\n",
      "                                 MSE       MAE        R2\n",
      "BaggingRegressor           0.026331  0.029933  0.971286\n",
      "XGBRegressor               0.028370  0.047084  0.969063\n",
      "GradientBoostingRegressor  0.029216  0.046184  0.968140\n",
      "LGBMRegressor              0.029998  0.047852  0.967287\n",
      "RandomForestRegressor      0.029999  0.032812  0.967287\n",
      "ExtraTreesRegressor        0.038803  0.054381  0.957686\n"
     ]
    }
   ],
   "source": [
    "models = [\n",
    "    RandomForestRegressor(n_estimators=100, max_depth=10, n_jobs=-1),\n",
    "    GradientBoostingRegressor(n_estimators=100, max_depth=5, learning_rate=0.1),\n",
    "    ExtraTreesRegressor(n_estimators=100, max_depth=10, n_jobs=-1),\n",
    "    BaggingRegressor(n_estimators=10, max_samples=0.5, n_jobs=-1),\n",
    "    XGBRegressor(n_estimators=100, max_depth=5, learning_rate=0.1, n_jobs=-1),\n",
    "    LGBMRegressor(\n",
    "        n_estimators=100, max_depth=5, learning_rate=0.1, n_jobs=-1, verbose=-1\n",
    "    ),\n",
    "]\n",
    "\n",
    "results_thickness = test_independant_models(models, features, targets[\"ice_thickness\"])\n",
    "print(\"\\nIce Thickness Results:\")\n",
    "print(results_thickness)\n",
    "\n",
    "results_velocity = test_independant_models(models, features, targets[\"ice_velocity\"])\n",
    "print(\"\\nIce Velocity Results:\")\n",
    "print(results_velocity)\n",
    "\n",
    "results_mask = test_independant_models(models, features, targets[\"ice_mask\"])\n",
    "print(\"\\nIce Mask Results:\")\n",
    "print(results_mask)"
   ]
  },
  {
   "cell_type": "markdown",
   "metadata": {},
   "source": [
    "## Further Testing\n"
   ]
  },
  {
   "cell_type": "code",
   "execution_count": null,
   "metadata": {},
   "outputs": [],
   "source": [
    "MAX_DEPTH = 60\n",
    "N_ESTIMATORS = 160\n",
    "N_JOBS = -1\n",
    "\n",
    "models = [\n",
    "    RandomForestRegressor(\n",
    "        n_estimators=N_ESTIMATORS, max_depth=MAX_DEPTH, n_jobs=N_JOBS\n",
    "    ),\n",
    "    GradientBoostingRegressor(\n",
    "        n_estimators=N_ESTIMATORS, max_depth=MAX_DEPTH, learning_rate=0.1\n",
    "    ),\n",
    "    ExtraTreesRegressor(n_estimators=N_ESTIMATORS, max_depth=MAX_DEPTH, n_jobs=N_JOBS),\n",
    "    BaggingRegressor(n_estimators=N_ESTIMATORS, max_samples=0.5, n_jobs=N_JOBS),\n",
    "    XGBRegressor(\n",
    "        n_estimators=N_ESTIMATORS, max_depth=MAX_DEPTH, learning_rate=0.1, n_jobs=N_JOBS\n",
    "    ),\n",
    "    LGBMRegressor(\n",
    "        n_estimators=N_ESTIMATORS,\n",
    "        max_depth=MAX_DEPTH,\n",
    "        learning_rate=0.1,\n",
    "        n_jobs=N_JOBS,\n",
    "        verbose=-1,\n",
    "    ),\n",
    "]\n",
    "\n",
    "print(\n",
    "    \"Ice Thickness\\n\",\n",
    "    test_independant_models(\n",
    "        models, features, targets[\"ice_thickness\"], split_year=2085\n",
    "    ),\n",
    ")\n",
    "print(\n",
    "    \"Ice Velocity\\n\",\n",
    "    test_independant_models(models, features, targets[\"ice_velocity\"], split_year=2085),\n",
    ")\n",
    "print(\n",
    "    \"Ice Mask\\n\",\n",
    "    test_independant_models(models, features, targets[\"ice_mask\"], split_year=2085),\n",
    ")"
   ]
  }
 ],
 "metadata": {
  "kernelspec": {
   "display_name": "Python 3",
   "language": "python",
   "name": "python3"
  },
  "language_info": {
   "codemirror_mode": {
    "name": "ipython",
    "version": 3
   },
   "file_extension": ".py",
   "mimetype": "text/x-python",
   "name": "python",
   "nbconvert_exporter": "python",
   "pygments_lexer": "ipython3",
   "version": "3.11.7"
  }
 },
 "nbformat": 4,
 "nbformat_minor": 2
}
