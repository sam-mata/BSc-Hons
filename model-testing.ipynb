{
 "cells": [
  {
   "cell_type": "markdown",
   "metadata": {},
   "source": [
    "# Model Testing\n"
   ]
  },
  {
   "cell_type": "markdown",
   "metadata": {},
   "source": [
    "## Setup\n"
   ]
  },
  {
   "cell_type": "code",
   "execution_count": 19,
   "metadata": {},
   "outputs": [],
   "source": [
    "from scripts.models.target_independent import test_independant_models\n",
    "from scripts.preprocessing.data_loader import load_preprocessed_dataset, split_features_targets\n",
    "\n",
    "from sklearn.ensemble import (\n",
    "    RandomForestRegressor,\n",
    "    GradientBoostingRegressor,\n",
    "    ExtraTreesRegressor,\n",
    ")\n",
    "from sklearn.ensemble import BaggingRegressor\n",
    "from xgboost import XGBRegressor\n",
    "from lightgbm import LGBMRegressor\n",
    "from IPython.display import display"
   ]
  },
  {
   "cell_type": "code",
   "execution_count": 8,
   "metadata": {},
   "outputs": [],
   "source": [
    "df = load_preprocessed_dataset()\n",
    "features, targets = split_features_targets(df)"
   ]
  },
  {
   "cell_type": "markdown",
   "metadata": {},
   "source": [
    "# Target-Independant Testing\n"
   ]
  },
  {
   "cell_type": "markdown",
   "metadata": {},
   "source": [
    "## Refined Model Subset\n"
   ]
  },
  {
   "cell_type": "markdown",
   "metadata": {},
   "source": [
    "### Models\n"
   ]
  },
  {
   "cell_type": "code",
   "execution_count": 20,
   "metadata": {},
   "outputs": [
    {
     "name": "stdout",
     "output_type": "stream",
     "text": [
      "Ice Thickness Results:\n"
     ]
    },
    {
     "data": {
      "text/html": [
       "<div>\n",
       "<style scoped>\n",
       "    .dataframe tbody tr th:only-of-type {\n",
       "        vertical-align: middle;\n",
       "    }\n",
       "\n",
       "    .dataframe tbody tr th {\n",
       "        vertical-align: top;\n",
       "    }\n",
       "\n",
       "    .dataframe thead th {\n",
       "        text-align: right;\n",
       "    }\n",
       "</style>\n",
       "<table border=\"1\" class=\"dataframe\">\n",
       "  <thead>\n",
       "    <tr style=\"text-align: right;\">\n",
       "      <th></th>\n",
       "      <th>MSE_mean</th>\n",
       "      <th>MAE_mean</th>\n",
       "      <th>R2_mean</th>\n",
       "      <th>MSE_std</th>\n",
       "      <th>MAE_std</th>\n",
       "      <th>R2_std</th>\n",
       "    </tr>\n",
       "  </thead>\n",
       "  <tbody>\n",
       "    <tr>\n",
       "      <th>ExtraTreesRegressor</th>\n",
       "      <td>0.001591</td>\n",
       "      <td>0.019288</td>\n",
       "      <td>0.975378</td>\n",
       "      <td>0.000505</td>\n",
       "      <td>0.003714</td>\n",
       "      <td>0.007797</td>\n",
       "    </tr>\n",
       "  </tbody>\n",
       "</table>\n",
       "</div>"
      ],
      "text/plain": [
       "                     MSE_mean  MAE_mean   R2_mean   MSE_std   MAE_std  \\\n",
       "ExtraTreesRegressor  0.001591  0.019288  0.975378  0.000505  0.003714   \n",
       "\n",
       "                       R2_std  \n",
       "ExtraTreesRegressor  0.007797  "
      ]
     },
     "metadata": {},
     "output_type": "display_data"
    },
    {
     "name": "stdout",
     "output_type": "stream",
     "text": [
      "\n",
      "Ice Velocity Results:\n"
     ]
    },
    {
     "data": {
      "text/html": [
       "<div>\n",
       "<style scoped>\n",
       "    .dataframe tbody tr th:only-of-type {\n",
       "        vertical-align: middle;\n",
       "    }\n",
       "\n",
       "    .dataframe tbody tr th {\n",
       "        vertical-align: top;\n",
       "    }\n",
       "\n",
       "    .dataframe thead th {\n",
       "        text-align: right;\n",
       "    }\n",
       "</style>\n",
       "<table border=\"1\" class=\"dataframe\">\n",
       "  <thead>\n",
       "    <tr style=\"text-align: right;\">\n",
       "      <th></th>\n",
       "      <th>MSE_mean</th>\n",
       "      <th>MAE_mean</th>\n",
       "      <th>R2_mean</th>\n",
       "      <th>MSE_std</th>\n",
       "      <th>MAE_std</th>\n",
       "      <th>R2_std</th>\n",
       "    </tr>\n",
       "  </thead>\n",
       "  <tbody>\n",
       "    <tr>\n",
       "      <th>ExtraTreesRegressor</th>\n",
       "      <td>1360.115072</td>\n",
       "      <td>6.43102</td>\n",
       "      <td>0.445627</td>\n",
       "      <td>1064.032219</td>\n",
       "      <td>1.53425</td>\n",
       "      <td>0.186827</td>\n",
       "    </tr>\n",
       "  </tbody>\n",
       "</table>\n",
       "</div>"
      ],
      "text/plain": [
       "                        MSE_mean  MAE_mean   R2_mean      MSE_std  MAE_std  \\\n",
       "ExtraTreesRegressor  1360.115072   6.43102  0.445627  1064.032219  1.53425   \n",
       "\n",
       "                       R2_std  \n",
       "ExtraTreesRegressor  0.186827  "
      ]
     },
     "metadata": {},
     "output_type": "display_data"
    },
    {
     "name": "stdout",
     "output_type": "stream",
     "text": [
      "\n",
      "Ice Mask Results:\n"
     ]
    },
    {
     "data": {
      "text/html": [
       "<div>\n",
       "<style scoped>\n",
       "    .dataframe tbody tr th:only-of-type {\n",
       "        vertical-align: middle;\n",
       "    }\n",
       "\n",
       "    .dataframe tbody tr th {\n",
       "        vertical-align: top;\n",
       "    }\n",
       "\n",
       "    .dataframe thead th {\n",
       "        text-align: right;\n",
       "    }\n",
       "</style>\n",
       "<table border=\"1\" class=\"dataframe\">\n",
       "  <thead>\n",
       "    <tr style=\"text-align: right;\">\n",
       "      <th></th>\n",
       "      <th>MSE_mean</th>\n",
       "      <th>MAE_mean</th>\n",
       "      <th>R2_mean</th>\n",
       "      <th>MSE_std</th>\n",
       "      <th>MAE_std</th>\n",
       "      <th>R2_std</th>\n",
       "    </tr>\n",
       "  </thead>\n",
       "  <tbody>\n",
       "    <tr>\n",
       "      <th>ExtraTreesRegressor</th>\n",
       "      <td>0.019674</td>\n",
       "      <td>0.038448</td>\n",
       "      <td>0.978533</td>\n",
       "      <td>0.007341</td>\n",
       "      <td>0.008516</td>\n",
       "      <td>0.008015</td>\n",
       "    </tr>\n",
       "  </tbody>\n",
       "</table>\n",
       "</div>"
      ],
      "text/plain": [
       "                     MSE_mean  MAE_mean   R2_mean   MSE_std   MAE_std  \\\n",
       "ExtraTreesRegressor  0.019674  0.038448  0.978533  0.007341  0.008516   \n",
       "\n",
       "                       R2_std  \n",
       "ExtraTreesRegressor  0.008015  "
      ]
     },
     "metadata": {},
     "output_type": "display_data"
    }
   ],
   "source": [
    "models = [\n",
    "    RandomForestRegressor(n_estimators=100, max_depth=10, n_jobs=-1),\n",
    "    GradientBoostingRegressor(n_estimators=100, max_depth=5, learning_rate=0.1),\n",
    "    ExtraTreesRegressor(n_estimators=100, max_depth=10, n_jobs=-1),\n",
    "    BaggingRegressor(n_estimators=10, max_samples=0.5, n_jobs=-1),\n",
    "    XGBRegressor(n_estimators=100, max_depth=5, learning_rate=0.1, n_jobs=-1),\n",
    "    LGBMRegressor(\n",
    "        n_estimators=100, max_depth=5, learning_rate=0.1, n_jobs=-1, verbose=-1\n",
    "    ),\n",
    "]\n",
    "\n",
    "results_thickness = test_independant_models(models, features, targets[\"ice_thickness\"])\n",
    "print(\"Ice Thickness Results:\")\n",
    "display(results_thickness)\n",
    "\n",
    "results_velocity = test_independant_models(models, features, targets[\"ice_velocity\"])\n",
    "print(\"\\nIce Velocity Results:\")\n",
    "display(results_velocity)\n",
    "\n",
    "results_mask = test_independant_models(models, features, targets[\"ice_mask\"])\n",
    "print(\"\\nIce Mask Results:\")\n",
    "display(results_mask)"
   ]
  },
  {
   "cell_type": "markdown",
   "metadata": {},
   "source": [
    "## Further Testing\n"
   ]
  },
  {
   "cell_type": "code",
   "execution_count": null,
   "metadata": {},
   "outputs": [],
   "source": [
    "MAX_DEPTH = 60\n",
    "N_ESTIMATORS = 160\n",
    "N_JOBS = -1\n",
    "\n",
    "models = [\n",
    "    RandomForestRegressor(\n",
    "        n_estimators=N_ESTIMATORS, max_depth=MAX_DEPTH, n_jobs=N_JOBS\n",
    "    ),\n",
    "    GradientBoostingRegressor(\n",
    "        n_estimators=N_ESTIMATORS, max_depth=MAX_DEPTH, learning_rate=0.1\n",
    "    ),\n",
    "    ExtraTreesRegressor(n_estimators=N_ESTIMATORS, max_depth=MAX_DEPTH, n_jobs=N_JOBS),\n",
    "    BaggingRegressor(n_estimators=N_ESTIMATORS, max_samples=0.5, n_jobs=N_JOBS),\n",
    "    XGBRegressor(\n",
    "        n_estimators=N_ESTIMATORS, max_depth=MAX_DEPTH, learning_rate=0.1, n_jobs=N_JOBS\n",
    "    ),\n",
    "    LGBMRegressor(\n",
    "        n_estimators=N_ESTIMATORS,\n",
    "        max_depth=MAX_DEPTH,\n",
    "        learning_rate=0.1,\n",
    "        n_jobs=N_JOBS,\n",
    "        verbose=-1,\n",
    "    ),\n",
    "]\n",
    "\n",
    "print(\n",
    "    \"Ice Thickness\\n\",\n",
    "    test_independant_models(\n",
    "        models, features, targets[\"ice_thickness\"], split_year=2085\n",
    "    ),\n",
    ")\n",
    "print(\n",
    "    \"Ice Velocity\\n\",\n",
    "    test_independant_models(models, features, targets[\"ice_velocity\"], split_year=2085),\n",
    ")\n",
    "print(\n",
    "    \"Ice Mask\\n\",\n",
    "    test_independant_models(models, features, targets[\"ice_mask\"], split_year=2085),\n",
    ")"
   ]
  }
 ],
 "metadata": {
  "kernelspec": {
   "display_name": "Python 3",
   "language": "python",
   "name": "python3"
  },
  "language_info": {
   "codemirror_mode": {
    "name": "ipython",
    "version": 3
   },
   "file_extension": ".py",
   "mimetype": "text/x-python",
   "name": "python",
   "nbconvert_exporter": "python",
   "pygments_lexer": "ipython3",
   "version": "3.12.4"
  }
 },
 "nbformat": 4,
 "nbformat_minor": 2
}
