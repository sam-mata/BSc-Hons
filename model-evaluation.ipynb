{
 "cells": [
  {
   "cell_type": "markdown",
   "metadata": {},
   "source": [
    "# Model Testing\n"
   ]
  },
  {
   "cell_type": "markdown",
   "metadata": {},
   "source": [
    "## Setup\n"
   ]
  },
  {
   "cell_type": "code",
   "execution_count": 1,
   "metadata": {},
   "outputs": [
    {
     "name": "stdout",
     "output_type": "stream",
     "text": [
      "Train years: 2015 to 2083\n",
      "Test years: 2084 to 2100\n"
     ]
    },
    {
     "data": {
      "text/html": [
       "<div>\n",
       "<style scoped>\n",
       "    .dataframe tbody tr th:only-of-type {\n",
       "        vertical-align: middle;\n",
       "    }\n",
       "\n",
       "    .dataframe tbody tr th {\n",
       "        vertical-align: top;\n",
       "    }\n",
       "\n",
       "    .dataframe thead th {\n",
       "        text-align: right;\n",
       "    }\n",
       "</style>\n",
       "<table border=\"1\" class=\"dataframe\">\n",
       "  <thead>\n",
       "    <tr style=\"text-align: right;\">\n",
       "      <th></th>\n",
       "      <th>x</th>\n",
       "      <th>y</th>\n",
       "      <th>bedrock_elevation</th>\n",
       "      <th>precipitation</th>\n",
       "      <th>air_temperature</th>\n",
       "      <th>ocean_temperature</th>\n",
       "      <th>year</th>\n",
       "      <th>distance_to_pole</th>\n",
       "      <th>bedrock_below_sea_level</th>\n",
       "      <th>set</th>\n",
       "      <th>ice_thickness</th>\n",
       "      <th>ice_velocity</th>\n",
       "      <th>ice_mask</th>\n",
       "    </tr>\n",
       "  </thead>\n",
       "  <tbody>\n",
       "    <tr>\n",
       "      <th>0</th>\n",
       "      <td>0.0</td>\n",
       "      <td>1.0</td>\n",
       "      <td>0.118762</td>\n",
       "      <td>0.180874</td>\n",
       "      <td>0.795808</td>\n",
       "      <td>0.268660</td>\n",
       "      <td>0.0</td>\n",
       "      <td>0.0</td>\n",
       "      <td>1.0</td>\n",
       "      <td>train</td>\n",
       "      <td>0.0</td>\n",
       "      <td>0.0</td>\n",
       "      <td>1.0</td>\n",
       "    </tr>\n",
       "    <tr>\n",
       "      <th>1</th>\n",
       "      <td>0.0</td>\n",
       "      <td>1.0</td>\n",
       "      <td>0.163009</td>\n",
       "      <td>0.175715</td>\n",
       "      <td>0.793057</td>\n",
       "      <td>0.258708</td>\n",
       "      <td>0.0</td>\n",
       "      <td>0.0</td>\n",
       "      <td>1.0</td>\n",
       "      <td>train</td>\n",
       "      <td>0.0</td>\n",
       "      <td>0.0</td>\n",
       "      <td>1.0</td>\n",
       "    </tr>\n",
       "    <tr>\n",
       "      <th>2</th>\n",
       "      <td>0.0</td>\n",
       "      <td>1.0</td>\n",
       "      <td>0.042803</td>\n",
       "      <td>0.173047</td>\n",
       "      <td>0.791427</td>\n",
       "      <td>0.251029</td>\n",
       "      <td>0.0</td>\n",
       "      <td>0.0</td>\n",
       "      <td>1.0</td>\n",
       "      <td>train</td>\n",
       "      <td>0.0</td>\n",
       "      <td>0.0</td>\n",
       "      <td>1.0</td>\n",
       "    </tr>\n",
       "    <tr>\n",
       "      <th>3</th>\n",
       "      <td>0.0</td>\n",
       "      <td>1.0</td>\n",
       "      <td>0.135461</td>\n",
       "      <td>0.178002</td>\n",
       "      <td>0.790789</td>\n",
       "      <td>0.245280</td>\n",
       "      <td>0.0</td>\n",
       "      <td>0.0</td>\n",
       "      <td>1.0</td>\n",
       "      <td>train</td>\n",
       "      <td>0.0</td>\n",
       "      <td>0.0</td>\n",
       "      <td>1.0</td>\n",
       "    </tr>\n",
       "    <tr>\n",
       "      <th>4</th>\n",
       "      <td>0.0</td>\n",
       "      <td>1.0</td>\n",
       "      <td>0.087251</td>\n",
       "      <td>0.190951</td>\n",
       "      <td>0.790841</td>\n",
       "      <td>0.240754</td>\n",
       "      <td>0.0</td>\n",
       "      <td>0.0</td>\n",
       "      <td>1.0</td>\n",
       "      <td>train</td>\n",
       "      <td>0.0</td>\n",
       "      <td>0.0</td>\n",
       "      <td>1.0</td>\n",
       "    </tr>\n",
       "    <tr>\n",
       "      <th>...</th>\n",
       "      <td>...</td>\n",
       "      <td>...</td>\n",
       "      <td>...</td>\n",
       "      <td>...</td>\n",
       "      <td>...</td>\n",
       "      <td>...</td>\n",
       "      <td>...</td>\n",
       "      <td>...</td>\n",
       "      <td>...</td>\n",
       "      <td>...</td>\n",
       "      <td>...</td>\n",
       "      <td>...</td>\n",
       "      <td>...</td>\n",
       "    </tr>\n",
       "    <tr>\n",
       "      <th>194097</th>\n",
       "      <td>0.0</td>\n",
       "      <td>0.0</td>\n",
       "      <td>0.347665</td>\n",
       "      <td>0.592466</td>\n",
       "      <td>0.831212</td>\n",
       "      <td>0.272332</td>\n",
       "      <td>1.0</td>\n",
       "      <td>0.0</td>\n",
       "      <td>1.0</td>\n",
       "      <td>test</td>\n",
       "      <td>0.0</td>\n",
       "      <td>0.0</td>\n",
       "      <td>1.0</td>\n",
       "    </tr>\n",
       "    <tr>\n",
       "      <th>194098</th>\n",
       "      <td>0.0</td>\n",
       "      <td>0.0</td>\n",
       "      <td>0.326669</td>\n",
       "      <td>0.557774</td>\n",
       "      <td>0.838175</td>\n",
       "      <td>0.285703</td>\n",
       "      <td>1.0</td>\n",
       "      <td>0.0</td>\n",
       "      <td>1.0</td>\n",
       "      <td>test</td>\n",
       "      <td>0.0</td>\n",
       "      <td>0.0</td>\n",
       "      <td>1.0</td>\n",
       "    </tr>\n",
       "    <tr>\n",
       "      <th>194099</th>\n",
       "      <td>0.0</td>\n",
       "      <td>0.0</td>\n",
       "      <td>0.365826</td>\n",
       "      <td>0.535849</td>\n",
       "      <td>0.843655</td>\n",
       "      <td>0.296153</td>\n",
       "      <td>1.0</td>\n",
       "      <td>0.0</td>\n",
       "      <td>1.0</td>\n",
       "      <td>test</td>\n",
       "      <td>0.0</td>\n",
       "      <td>0.0</td>\n",
       "      <td>1.0</td>\n",
       "    </tr>\n",
       "    <tr>\n",
       "      <th>194100</th>\n",
       "      <td>0.0</td>\n",
       "      <td>0.0</td>\n",
       "      <td>0.416587</td>\n",
       "      <td>0.533697</td>\n",
       "      <td>0.851775</td>\n",
       "      <td>0.315210</td>\n",
       "      <td>1.0</td>\n",
       "      <td>0.0</td>\n",
       "      <td>1.0</td>\n",
       "      <td>test</td>\n",
       "      <td>0.0</td>\n",
       "      <td>0.0</td>\n",
       "      <td>1.0</td>\n",
       "    </tr>\n",
       "    <tr>\n",
       "      <th>194101</th>\n",
       "      <td>0.0</td>\n",
       "      <td>0.0</td>\n",
       "      <td>0.342699</td>\n",
       "      <td>0.533793</td>\n",
       "      <td>0.865899</td>\n",
       "      <td>0.347170</td>\n",
       "      <td>1.0</td>\n",
       "      <td>0.0</td>\n",
       "      <td>1.0</td>\n",
       "      <td>test</td>\n",
       "      <td>0.0</td>\n",
       "      <td>0.0</td>\n",
       "      <td>1.0</td>\n",
       "    </tr>\n",
       "  </tbody>\n",
       "</table>\n",
       "<p>194102 rows × 13 columns</p>\n",
       "</div>"
      ],
      "text/plain": [
       "          x    y  bedrock_elevation  precipitation  air_temperature  \\\n",
       "0       0.0  1.0           0.118762       0.180874         0.795808   \n",
       "1       0.0  1.0           0.163009       0.175715         0.793057   \n",
       "2       0.0  1.0           0.042803       0.173047         0.791427   \n",
       "3       0.0  1.0           0.135461       0.178002         0.790789   \n",
       "4       0.0  1.0           0.087251       0.190951         0.790841   \n",
       "...     ...  ...                ...            ...              ...   \n",
       "194097  0.0  0.0           0.347665       0.592466         0.831212   \n",
       "194098  0.0  0.0           0.326669       0.557774         0.838175   \n",
       "194099  0.0  0.0           0.365826       0.535849         0.843655   \n",
       "194100  0.0  0.0           0.416587       0.533697         0.851775   \n",
       "194101  0.0  0.0           0.342699       0.533793         0.865899   \n",
       "\n",
       "        ocean_temperature  year  distance_to_pole  bedrock_below_sea_level  \\\n",
       "0                0.268660   0.0               0.0                      1.0   \n",
       "1                0.258708   0.0               0.0                      1.0   \n",
       "2                0.251029   0.0               0.0                      1.0   \n",
       "3                0.245280   0.0               0.0                      1.0   \n",
       "4                0.240754   0.0               0.0                      1.0   \n",
       "...                   ...   ...               ...                      ...   \n",
       "194097           0.272332   1.0               0.0                      1.0   \n",
       "194098           0.285703   1.0               0.0                      1.0   \n",
       "194099           0.296153   1.0               0.0                      1.0   \n",
       "194100           0.315210   1.0               0.0                      1.0   \n",
       "194101           0.347170   1.0               0.0                      1.0   \n",
       "\n",
       "          set  ice_thickness  ice_velocity  ice_mask  \n",
       "0       train            0.0           0.0       1.0  \n",
       "1       train            0.0           0.0       1.0  \n",
       "2       train            0.0           0.0       1.0  \n",
       "3       train            0.0           0.0       1.0  \n",
       "4       train            0.0           0.0       1.0  \n",
       "...       ...            ...           ...       ...  \n",
       "194097   test            0.0           0.0       1.0  \n",
       "194098   test            0.0           0.0       1.0  \n",
       "194099   test            0.0           0.0       1.0  \n",
       "194100   test            0.0           0.0       1.0  \n",
       "194101   test            0.0           0.0       1.0  \n",
       "\n",
       "[194102 rows x 13 columns]"
      ]
     },
     "metadata": {},
     "output_type": "display_data"
    },
    {
     "name": "stdout",
     "output_type": "stream",
     "text": [
      "Number of single-target models: 23\n",
      "Number of multi-target models: 8\n"
     ]
    }
   ],
   "source": [
    "from scripts.preprocessing.data_loader import get_train_test_splits, get_combined_dataset\n",
    "from scripts.preprocessing.preprocessor import apply_minmax_scaling\n",
    "from scripts.models.model_list import load_models\n",
    "from scripts.models.model_testing import test_models\n",
    "from IPython.display import display\n",
    "from scripts.models.gp import apply_gp\n",
    "\n",
    "X_train, X_test, y_train, y_test = get_train_test_splits(test_size=0.2)\n",
    "X_train, y_train, X_train_scaler, y_train_scaler = apply_minmax_scaling(\n",
    "    X_train, y_train\n",
    ")\n",
    "X_test, y_test, X_test_scaler, y_test_scaler = apply_minmax_scaling(X_test, y_test)\n",
    "df = get_combined_dataset(X_train, y_train, X_test, y_test)\n",
    "display(df)\n",
    "\n",
    "TEST_SET, ALL_SINGLE_TARGET_MODELS, REFINED_SINGLE_TARGET_MODELS, ALL_MULTI_TARGET_MODELS, REFINED_MULTI_TARGET_MODELS = load_models()\n",
    "print(f\"Number of single-target models: {len(ALL_SINGLE_TARGET_MODELS)}\")\n",
    "print(f\"Number of multi-target models: {len(ALL_MULTI_TARGET_MODELS)}\")"
   ]
  },
  {
   "cell_type": "markdown",
   "metadata": {},
   "source": [
    "## Broad Testing\n"
   ]
  },
  {
   "cell_type": "markdown",
   "metadata": {},
   "source": [
    "### Single-Target\n"
   ]
  },
  {
   "cell_type": "code",
   "execution_count": null,
   "metadata": {},
   "outputs": [],
   "source": [
    "broad_single_target_results = test_models(ALL_SINGLE_TARGET_MODELS, multi=False, cv=5, refined=False, X_train=X_train, y_train=y_train, X_test=X_test, y_test=y_test)"
   ]
  },
  {
   "cell_type": "markdown",
   "metadata": {},
   "source": [
    "### Multi-Target\n"
   ]
  },
  {
   "cell_type": "code",
   "execution_count": null,
   "metadata": {},
   "outputs": [],
   "source": [
    "broad_multi_target_results = test_models(ALL_MULTI_TARGET_MODELS, multi=True, cv=5, refined=False, X_train=X_train, y_train=y_train, X_test=X_test, y_test=y_test)"
   ]
  },
  {
   "cell_type": "markdown",
   "metadata": {},
   "source": [
    "## Refined Testing\n"
   ]
  },
  {
   "cell_type": "markdown",
   "metadata": {},
   "source": [
    "### Single-Target\n"
   ]
  },
  {
   "cell_type": "code",
   "execution_count": null,
   "metadata": {},
   "outputs": [],
   "source": [
    "refined_single_target_results = test_models(REFINED_SINGLE_TARGET_MODELS, multi=False, cv=5, refined=True, X_train=X_train, y_train=y_train, X_test=X_test, y_test=y_test)"
   ]
  },
  {
   "cell_type": "markdown",
   "metadata": {},
   "source": [
    "### Multi-Target\n"
   ]
  },
  {
   "cell_type": "code",
   "execution_count": null,
   "metadata": {},
   "outputs": [],
   "source": [
    "refined_multi_target_results = test_models(REFINED_MULTI_TARGET_MODELS, multi=True, cv=5, refined=True, X_train=X_train, y_train=y_train, X_test=X_test, y_test=y_test)"
   ]
  },
  {
   "cell_type": "markdown",
   "metadata": {},
   "source": [
    "## Sequential Models\n"
   ]
  },
  {
   "cell_type": "code",
   "execution_count": null,
   "metadata": {},
   "outputs": [],
   "source": []
  },
  {
   "cell_type": "markdown",
   "metadata": {},
   "source": [
    "## Genetic Programming\n"
   ]
  },
  {
   "cell_type": "code",
   "execution_count": null,
   "metadata": {},
   "outputs": [],
   "source": [
    "best_model, train_metrics, test_metrics = apply_gp(X_train, X_test, y_train, y_test)\n",
    "print(\"Best Model:\", best_model)\n",
    "print(\"Train Metrics:\", train_metrics)\n",
    "print(\"Test Metrics:\", test_metrics)"
   ]
  },
  {
   "cell_type": "markdown",
   "metadata": {},
   "source": [
    "## KAN\n"
   ]
  },
  {
   "cell_type": "code",
   "execution_count": 2,
   "metadata": {},
   "outputs": [
    {
     "ename": "OSError",
     "evalue": "[WinError 126] The specified module could not be found. Error loading \"c:\\Users\\samma\\AppData\\Local\\Programs\\Python\\Python310\\lib\\site-packages\\torch\\lib\\fbgemm.dll\" or one of its dependencies.",
     "output_type": "error",
     "traceback": [
      "\u001b[1;31m---------------------------------------------------------------------------\u001b[0m",
      "\u001b[1;31mOSError\u001b[0m                                   Traceback (most recent call last)",
      "Cell \u001b[1;32mIn[2], line 1\u001b[0m\n\u001b[1;32m----> 1\u001b[0m \u001b[38;5;28;01mimport\u001b[39;00m \u001b[38;5;21;01mtorch\u001b[39;00m\n\u001b[0;32m      2\u001b[0m \u001b[38;5;28mprint\u001b[39m(torch\u001b[38;5;241m.\u001b[39m__version__)\n\u001b[0;32m      3\u001b[0m \u001b[38;5;28mprint\u001b[39m(torch\u001b[38;5;241m.\u001b[39mcuda\u001b[38;5;241m.\u001b[39mis_available())\n",
      "File \u001b[1;32mc:\\Users\\samma\\AppData\\Local\\Programs\\Python\\Python310\\lib\\site-packages\\torch\\__init__.py:148\u001b[0m\n\u001b[0;32m    146\u001b[0m                 err \u001b[38;5;241m=\u001b[39m ctypes\u001b[38;5;241m.\u001b[39mWinError(ctypes\u001b[38;5;241m.\u001b[39mget_last_error())\n\u001b[0;32m    147\u001b[0m                 err\u001b[38;5;241m.\u001b[39mstrerror \u001b[38;5;241m+\u001b[39m\u001b[38;5;241m=\u001b[39m \u001b[38;5;124mf\u001b[39m\u001b[38;5;124m'\u001b[39m\u001b[38;5;124m Error loading \u001b[39m\u001b[38;5;124m\"\u001b[39m\u001b[38;5;132;01m{\u001b[39;00mdll\u001b[38;5;132;01m}\u001b[39;00m\u001b[38;5;124m\"\u001b[39m\u001b[38;5;124m or one of its dependencies.\u001b[39m\u001b[38;5;124m'\u001b[39m\n\u001b[1;32m--> 148\u001b[0m                 \u001b[38;5;28;01mraise\u001b[39;00m err\n\u001b[0;32m    150\u001b[0m     kernel32\u001b[38;5;241m.\u001b[39mSetErrorMode(prev_error_mode)\n\u001b[0;32m    153\u001b[0m \u001b[38;5;28;01mdef\u001b[39;00m \u001b[38;5;21m_preload_cuda_deps\u001b[39m(lib_folder, lib_name):\n",
      "\u001b[1;31mOSError\u001b[0m: [WinError 126] The specified module could not be found. Error loading \"c:\\Users\\samma\\AppData\\Local\\Programs\\Python\\Python310\\lib\\site-packages\\torch\\lib\\fbgemm.dll\" or one of its dependencies."
     ]
    }
   ],
   "source": [
    "import torch\n",
    "print(torch.__version__)\n",
    "print(torch.cuda.is_available())"
   ]
  },
  {
   "cell_type": "code",
   "execution_count": null,
   "metadata": {},
   "outputs": [],
   "source": [
    "from kan import *\n",
    "import torch\n",
    "from kan.utils import create_dataset, ex_round\n",
    "\n",
    "device = torch.device('cuda' if torch.cuda.is_available() else 'cpu')\n",
    "\n",
    "# Convert your data to PyTorch tensors\n",
    "X_train_tensor = torch.tensor(X_train.values, dtype=torch.float64).to(device)\n",
    "y_train_tensor = torch.tensor(y_train.values, dtype=torch.float64).to(device)\n",
    "\n",
    "# Create a dataset dictionary\n",
    "dataset = {\n",
    "    'train_input': X_train_tensor,\n",
    "    'train_label': y_train_tensor,\n",
    "    'test_input': torch.tensor(X_test.values, dtype=torch.float64).to(device),\n",
    "    'test_label': torch.tensor(y_test.values, dtype=torch.float64).to(device)\n",
    "}\n",
    "\n",
    "\n",
    "input_dim = X_train.shape[1]\n",
    "output_dim = y_train.shape[1]\n",
    "hidden_dim = 10  # You can adjust this\n",
    "\n",
    "model = KAN(width=[input_dim, hidden_dim, output_dim], grid=3, k=3, seed=42, device=device)\n",
    "\n",
    "model.fit(dataset, opt=\"LBFGS\", steps=100, lamb=0.001)\n",
    "\n",
    "model = model.prune()\n",
    "model = model.refine(10)\n",
    "model.fit(dataset, opt=\"LBFGS\", steps=50)\n",
    "\n",
    "lib = ['x','x^2','x^3','x^4','exp','log','sqrt','tanh','sin','abs']\n",
    "model.auto_symbolic(lib=lib)\n",
    "\n",
    "formula = model.symbolic_formula()\n",
    "for i, f in enumerate(formula[0]):\n",
    "    print(f\"Target {i+1}: {ex_round(f, 4)}\")\n",
    "\n",
    "predictions = model(dataset['test_input'])\n",
    "\n",
    "from sklearn.metrics import mean_squared_error, r2_score\n",
    "\n",
    "mse = mean_squared_error(y_test, predictions.cpu().detach().numpy())\n",
    "r2 = r2_score(y_test, predictions.cpu().detach().numpy())\n",
    "\n",
    "print(f\"MSE: {mse}\")\n",
    "print(f\"R2 Score: {r2}\")"
   ]
  }
 ],
 "metadata": {
  "kernelspec": {
   "display_name": "Python 3",
   "language": "python",
   "name": "python3"
  },
  "language_info": {
   "codemirror_mode": {
    "name": "ipython",
    "version": 3
   },
   "file_extension": ".py",
   "mimetype": "text/x-python",
   "name": "python",
   "nbconvert_exporter": "python",
   "pygments_lexer": "ipython3",
   "version": "3.10.10"
  }
 },
 "nbformat": 4,
 "nbformat_minor": 2
}
