{
 "cells": [
  {
   "cell_type": "markdown",
   "metadata": {},
   "source": [
    "# Model Testing\n"
   ]
  },
  {
   "cell_type": "markdown",
   "metadata": {},
   "source": [
    "## Setup\n"
   ]
  },
  {
   "cell_type": "code",
   "execution_count": null,
   "metadata": {},
   "outputs": [],
   "source": [
    "from scripts.preprocessing.data_loader import get_train_test_splits, get_combined_dataset\n",
    "from scripts.preprocessing.preprocessor import apply_minmax_scaling, select_features\n",
    "from scripts.models.model_list import load_models\n",
    "from scripts.models.model_testing import test_models\n",
    "from IPython.display import display\n",
    "from scripts.visualisations.plotting import plot_group_averaged_spatial_heatmap\n",
    "from scripts.visualisations.helpers import rescale_features\n",
    "import matplotlib.pyplot as plt\n",
    "\n",
    "X_train, X_test, y_train, y_test = get_train_test_splits(test_size=0.2)\n",
    "X_train, y_train, train_scales = apply_minmax_scaling(X_train, y_train)\n",
    "X_test, y_test, test_scales = apply_minmax_scaling(X_test, y_test)\n",
    "df = get_combined_dataset(X_train, y_train, X_test, y_test)\n",
    "print(f\"Dataframe shape: {df.shape}\")\n",
    "\n",
    "TEST_SET, ALL_SINGLE_TARGET_MODELS, REFINED_SINGLE_TARGET_MODELS, ALL_MULTI_TARGET_MODELS, REFINED_MULTI_TARGET_MODELS = load_models()\n",
    "print(f\"Number of single-target models: {len(ALL_SINGLE_TARGET_MODELS)}\")\n",
    "print(f\"Number of multi-target models: {len(ALL_MULTI_TARGET_MODELS)}\")\n",
    "\n",
    "positional_constants = ['x', 'y', 'year']\n",
    "features = ['bedrock_elevation', 'precipitation', 'air_temperature', 'ocean_temperature']\n",
    "targets = ['ice_thickness', 'ice_velocity', 'ice_mask']\n",
    "other = ['set']\n",
    "derived = [col for col in df.columns if col not in features + targets + positional_constants + other]"
   ]
  },
  {
   "cell_type": "code",
   "execution_count": 3,
   "metadata": {},
   "outputs": [],
   "source": [
    "thickness_features = select_features(X_train, y_train[\"ice_thickness\"], method='combined')\n",
    "velocity_features = select_features(X_train, y_train[\"ice_velocity\"], method='combined')\n",
    "mask_features = select_features(X_train, y_train[\"ice_mask\"], method='combined')\n",
    "\n",
    "print(thickness_features)\n",
    "print(velocity_features)\n",
    "print(mask_features)"
   ]
  },
  {
   "cell_type": "markdown",
   "metadata": {},
   "source": [
    "## Dataset"
   ]
  },
  {
   "cell_type": "code",
   "execution_count": null,
   "metadata": {},
   "outputs": [],
   "source": [
    "display(\"Full Dataset\",df)\n",
    "display(\"Variable Measurements\",df.describe())\n",
    "display(\"Dataset Info\", df.info())\n",
    "\n",
    "print(len(positional_constants), len(features), len(derived), len(target))\n",
    "\n",
    "display(\"Features\", df[features].describe())\n",
    "display(\"Target\", df[target].describe())\n",
    "display(\"Derived\", df[derived].describe())"
   ]
  },
  {
   "cell_type": "code",
   "execution_count": null,
   "metadata": {},
   "outputs": [],
   "source": [
    "df_test = df[df['set'] == 'test'].copy()\n",
    "df_test = rescale_features(df_test, test_scales)\n",
    "\n",
    "input_features = ['bedrock_elevation', 'precipitation', 'air_temperature', 'ocean_temperature']\n",
    "input_titles = ['Bedrock Elevation', 'Precipitation', 'Air Temperature', 'Ocean Temperature']\n",
    "input_units = ['m', 'mm/year', '°K', '°K']\n",
    "\n",
    "derived_features = ['distance_to_pole', 'bedrock_below_sea_level', 'temperature_difference', \n",
    "                    'log_air_temperature', 'rolling_std_precipitation', 'rolling_std_air_temperature', \n",
    "                    'air_temperature_low_45', 'bedrock_slope_x', 'bedrock_slope_y', 'bedrock_slope_magnitude', 'surface_mass_balance', 'years_since_start']\n",
    "derived_titles = ['Distance to Pole', 'Bedrock Below Sea Level', 'Temperature Difference', \n",
    "                    'Log Air Temperature', 'Rolling Std Precipitation', 'Rolling Std Air Temperature', \n",
    "                    'Air Temperature Low 45', 'Bedrock Slope X', 'Bedrock Slope Y', 'Bedrock Slope Magnitude', 'Surface Mass Balance', 'Years Since Start']\n",
    "derived_units = ['', '', '°K', '°K', 'mm/year', '°K', '', 'm/m', 'm/m', 'm/m', 'mm/year', 'years']\n",
    "\n",
    "target_features = ['ice_thickness', 'ice_velocity', 'ice_mask']\n",
    "target_titles = ['Ice Thickness', 'Ice Velocity', 'Ice Mask']\n",
    "target_units = ['m', 'm/year', '']\n",
    "\n",
    "input_plot = plot_group_averaged_spatial_heatmap(df, input_features, input_titles, input_units, figsize=(20, 15))\n",
    "input_plot.suptitle('Input Features', fontsize=20, y=1.02)\n",
    "input_plot.savefig('out/images/input_features_heatmaps.png', dpi=300, bbox_inches='tight')\n",
    "\n",
    "derived_plot = plot_group_averaged_spatial_heatmap(df, derived_features, derived_titles, derived_units, figsize=(20, 35))\n",
    "derived_plot.suptitle('Derived Features', fontsize=20, y=1.02)\n",
    "derived_plot.savefig('out/images/derived_features_heatmaps.png', dpi=300, bbox_inches='tight')\n",
    "\n",
    "target_plot = plot_group_averaged_spatial_heatmap(df, target_features, target_titles, target_units, figsize=(20, 15))\n",
    "target_plot.suptitle('Target Outputs', fontsize=20, y=1.02)\n",
    "target_plot.savefig('out/images/target_outputs_heatmaps.png', dpi=300, bbox_inches='tight')\n",
    "\n",
    "plt.show()"
   ]
  },
  {
   "cell_type": "markdown",
   "metadata": {},
   "source": [
    "## Broad Testing\n"
   ]
  },
  {
   "cell_type": "markdown",
   "metadata": {},
   "source": [
    "### Single-Target\n"
   ]
  },
  {
   "cell_type": "code",
   "execution_count": null,
   "metadata": {},
   "outputs": [],
   "source": [
    "broad_single_target_results = test_models(ALL_SINGLE_TARGET_MODELS, multi=False, cv=5, refined=False, X_train=X_train, y_train=y_train, X_test=X_test, y_test=y_test)"
   ]
  },
  {
   "cell_type": "markdown",
   "metadata": {},
   "source": [
    "### Multi-Target\n"
   ]
  },
  {
   "cell_type": "code",
   "execution_count": null,
   "metadata": {},
   "outputs": [],
   "source": [
    "broad_multi_target_results = test_models(ALL_MULTI_TARGET_MODELS, multi=True, cv=5, refined=False, X_train=X_train, y_train=y_train, X_test=X_test, y_test=y_test)"
   ]
  },
  {
   "cell_type": "markdown",
   "metadata": {},
   "source": [
    "## Refined Testing\n"
   ]
  },
  {
   "cell_type": "markdown",
   "metadata": {},
   "source": [
    "### Single-Target\n"
   ]
  },
  {
   "cell_type": "code",
   "execution_count": null,
   "metadata": {},
   "outputs": [],
   "source": [
    "refined_single_target_results = test_models(REFINED_SINGLE_TARGET_MODELS, multi=False, cv=5, refined=True, X_train=X_train, y_train=y_train, X_test=X_test, y_test=y_test)"
   ]
  },
  {
   "cell_type": "markdown",
   "metadata": {},
   "source": [
    "### Multi-Target\n"
   ]
  },
  {
   "cell_type": "code",
   "execution_count": null,
   "metadata": {},
   "outputs": [],
   "source": [
    "refined_multi_target_results = test_models(REFINED_MULTI_TARGET_MODELS, multi=True, cv=5, refined=True, X_train=X_train, y_train=y_train, X_test=X_test, y_test=y_test)"
   ]
  },
  {
   "cell_type": "markdown",
   "metadata": {},
   "source": [
    "## Sequential Models\n"
   ]
  },
  {
   "cell_type": "code",
   "execution_count": null,
   "metadata": {},
   "outputs": [],
   "source": []
  }
 ],
 "metadata": {
  "kernelspec": {
   "display_name": "Python 3",
   "language": "python",
   "name": "python3"
  },
  "language_info": {
   "codemirror_mode": {
    "name": "ipython",
    "version": 3
   },
   "file_extension": ".py",
   "mimetype": "text/x-python",
   "name": "python",
   "nbconvert_exporter": "python",
   "pygments_lexer": "ipython3",
   "version": "3.10.14"
  }
 },
 "nbformat": 4,
 "nbformat_minor": 2
}
